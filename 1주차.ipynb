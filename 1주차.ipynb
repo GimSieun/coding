{
  "nbformat": 4,
  "nbformat_minor": 0,
  "metadata": {
    "colab": {
      "name": "1주차",
      "provenance": [],
      "collapsed_sections": [],
      "authorship_tag": "ABX9TyPSRkbnna5IpQpwgrNZE+C/",
      "include_colab_link": true
    },
    "kernelspec": {
      "name": "python3",
      "display_name": "Python 3"
    }
  },
  "cells": [
    {
      "cell_type": "markdown",
      "metadata": {
        "id": "view-in-github",
        "colab_type": "text"
      },
      "source": [
        "<a href=\"https://colab.research.google.com/github/GimSieun/coding/blob/master/1%EC%A3%BC%EC%B0%A8.ipynb\" target=\"_parent\"><img src=\"https://colab.research.google.com/assets/colab-badge.svg\" alt=\"Open In Colab\"/></a>"
      ]
    },
    {
      "cell_type": "markdown",
      "metadata": {
        "id": "u8czjIJf6My_",
        "colab_type": "text"
      },
      "source": [
        "## **1주차 과제**\n",
        "\n",
        "**1.언어**\n",
        "인공지능을 활용하여 번역 분야의 발달이 점점 정밀화 되고 있다. 기계적이고 어딘가 부자연스러웠던 번역이 인간이 실생활에서 쓰듯 자연스럽고 더 정밀하게 변경되고 있다. 단순 단어 번역이 아닌 관용어, 은어 등 점점 더 정교하게 분석하고 번역한다. 타이핑하는 순간 즉석해서 번역을 하며 해외여행 등 외국인과 대화에서 쉽게 사용할 수 있다. 하지만 더 자연스럽고 유창한 번역을 위해서는 보완할 점들이 많다.\n",
        "\n",
        "![대체 텍스트](https://lh3.googleusercontent.com/proxy/tFPvigFf_8MPNdBn8VqAGDgqfN9U7Y3SmJRKac0w287v9IBh0TqXaTv7I1xeaa-_6gZwWZqEGf9-l96AFy-X0wmX1OVAmlxMrpheLNttFdI3p4FYHRNbj5jSZJW6mG2K3cGPNmDtf7i97SoRqI44qw6lTHv1KMYbP3faj2BrQyM0BRU3FI8BWgH0ZwMg9Kybanll2JH--O5lOVSh4HKZTtVdGN5Xd9gXGLajj582fM8h-AUvupFdeY8BuBrdqfCgaqKeJsAdw-OVIpKlNKx7u3ZHAQBoGVVU7BeWcKiowrPQKg6ao5pbxR67k7aZLLLrU3WoUImwRQnshriAq7qBgLRiJ-uyPzk)\n",
        "\n",
        "\n",
        "**2.음성**\n",
        "음성분야에서 인공지능은 시리, 빅스비 등 휴대폰에 내장되어 있어 가장 가까이서 찾아 볼 수 있다. 사람들의 제각기 다른 음성들을 인식하여 그것을 분석하고 사용자가 원하는 것을 실행한다. 사용자가 원하는 행동을 취하는 보조 역할을 하는데, 사용자 맞춤형 노래를 틀어주거나 사용자가 원하는 휴대전화 기능을 실행하기도 한다. 빠르고 편하게 사람들이 원하는 것을 도와준다.\n",
        "![대체 텍스트](https://file.osen.co.kr/article/2017/04/28/201704281815773197_59031060cbcdc.jpg)\n",
        "\n",
        "\n",
        "\n",
        "**3.이미지**\n",
        "이미지 이미지분야에서는 '이미지 모델 학습'을 응용하는데, 많은 이미지들을 학습 데이터로 삼아 기준에 따라 분류하고, 기준을 만들어 모델을 학습시켜서 모델을 만든다. 같은 사물이나 모션을 취하고 있는 이미지들을 각기 분류하여 기준을 만든다. 그렇게 만든 기준에 따라 새로 입력된 이미지를 분류하는 모델을 만드는 것이 최종 목표이다. 기준을 명확히 만들어서 분류의 정확도를 높여야 한다.\n",
        "![대체 텍스트](http://imgnews.naver.net/image/5430/2020/04/02/0000011821_004_20200402005850002.png)\n",
        "\n",
        "**4.자율주행**\n",
        "자율주행 분야에서 인공지능은 사람의 눈을 대신하여 사람의 편리성을 돕는다. 인간은 사물, 왼쪽 눈, 오른쪽 눈의 구조로 대상과의 거리를 알 수 있다. 실제 테슬라 사의 자율주행은 8개의 카메라를 사용하여 인간과 비슷하게 거리를 측정한다. 단순 자동차 시장을 넘어서 통신기술, 환경, 로봇 에너지 분야와 결합하여 안전성을 높이고 기술력을 발전시키고있다.\n",
        "![대체 텍스트](https://images.kbench.com/kbench/article/2018_08/k190073p1n1.jpg)\n",
        "\n",
        "\n",
        "**학습목표**\n",
        "인공지능은 정말 다양한 분야에서 유용하게 쓰인다. 아직 어떤 분야에 특별히 관심이 가는 것은 없지만, 수업을 들으면서 고민해보고 어떤 분야에서 어떤 목표를 가지고 인공지능을 활용하고 싶은지 아이디어를 얻는 것이 목표이다. "
      ]
    }
  ]
}